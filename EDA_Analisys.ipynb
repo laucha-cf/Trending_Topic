{
 "cells": [
  {
   "attachments": {},
   "cell_type": "markdown",
   "metadata": {},
   "source": [
    "#### Importamos librerías necesarias"
   ]
  },
  {
   "cell_type": "code",
   "execution_count": 3,
   "metadata": {},
   "outputs": [],
   "source": [
    "import pandas as pd"
   ]
  },
  {
   "cell_type": "code",
   "execution_count": 1,
   "metadata": {},
   "outputs": [],
   "source": [
    "encoding = 'utf-8'\n",
    "path = 'data/tweets.json'"
   ]
  },
  {
   "attachments": {},
   "cell_type": "markdown",
   "metadata": {},
   "source": [
    "#### Lectura de Tweets.JSON"
   ]
  },
  {
   "cell_type": "code",
   "execution_count": 4,
   "metadata": {},
   "outputs": [],
   "source": [
    "df = pd.read_json(path_or_buf=path, encoding=encoding)"
   ]
  },
  {
   "attachments": {},
   "cell_type": "markdown",
   "metadata": {},
   "source": [
    "Verificamos el contenido"
   ]
  },
  {
   "cell_type": "code",
   "execution_count": 6,
   "metadata": {},
   "outputs": [
    {
     "data": {
      "text/html": [
       "<div>\n",
       "<style scoped>\n",
       "    .dataframe tbody tr th:only-of-type {\n",
       "        vertical-align: middle;\n",
       "    }\n",
       "\n",
       "    .dataframe tbody tr th {\n",
       "        vertical-align: top;\n",
       "    }\n",
       "\n",
       "    .dataframe thead th {\n",
       "        text-align: right;\n",
       "    }\n",
       "</style>\n",
       "<table border=\"1\" class=\"dataframe\">\n",
       "  <thead>\n",
       "    <tr style=\"text-align: right;\">\n",
       "      <th></th>\n",
       "      <th>id</th>\n",
       "      <th>texto</th>\n",
       "      <th>usuario</th>\n",
       "      <th>hashtags</th>\n",
       "      <th>fecha</th>\n",
       "      <th>retweets</th>\n",
       "      <th>favoritos</th>\n",
       "    </tr>\n",
       "  </thead>\n",
       "  <tbody>\n",
       "    <tr>\n",
       "      <th>0</th>\n",
       "      <td>1</td>\n",
       "      <td>La tecnología de la realidad virtual está revo...</td>\n",
       "      <td>gamers_unidos</td>\n",
       "      <td>[tecnología, videojuegos]</td>\n",
       "      <td>2023-03-13 16:45:00</td>\n",
       "      <td>23</td>\n",
       "      <td>87</td>\n",
       "    </tr>\n",
       "    <tr>\n",
       "      <th>1</th>\n",
       "      <td>2</td>\n",
       "      <td>Apple anuncia el lanzamiento de su nuevo iPhon...</td>\n",
       "      <td>tech_news</td>\n",
       "      <td>[Apple, iPhone15]</td>\n",
       "      <td>2023-03-12 10:30:00</td>\n",
       "      <td>234</td>\n",
       "      <td>1876</td>\n",
       "    </tr>\n",
       "    <tr>\n",
       "      <th>2</th>\n",
       "      <td>3</td>\n",
       "      <td>Google presenta su nuevo asistente virtual con...</td>\n",
       "      <td>tech_guru</td>\n",
       "      <td>[Google, hogarinteligente]</td>\n",
       "      <td>2023-03-11 15:20:00</td>\n",
       "      <td>78</td>\n",
       "      <td>489</td>\n",
       "    </tr>\n",
       "  </tbody>\n",
       "</table>\n",
       "</div>"
      ],
      "text/plain": [
       "   id                                              texto        usuario  \\\n",
       "0   1  La tecnología de la realidad virtual está revo...  gamers_unidos   \n",
       "1   2  Apple anuncia el lanzamiento de su nuevo iPhon...      tech_news   \n",
       "2   3  Google presenta su nuevo asistente virtual con...      tech_guru   \n",
       "\n",
       "                     hashtags                fecha  retweets  favoritos  \n",
       "0   [tecnología, videojuegos]  2023-03-13 16:45:00        23         87  \n",
       "1           [Apple, iPhone15]  2023-03-12 10:30:00       234       1876  \n",
       "2  [Google, hogarinteligente]  2023-03-11 15:20:00        78        489  "
      ]
     },
     "execution_count": 6,
     "metadata": {},
     "output_type": "execute_result"
    }
   ],
   "source": [
    "df.head(3)"
   ]
  },
  {
   "attachments": {},
   "cell_type": "markdown",
   "metadata": {},
   "source": [
    "Observamos tipos de datos"
   ]
  },
  {
   "cell_type": "code",
   "execution_count": 12,
   "metadata": {},
   "outputs": [
    {
     "data": {
      "text/plain": [
       "id            int64\n",
       "texto        object\n",
       "usuario      object\n",
       "hashtags     object\n",
       "fecha        object\n",
       "retweets      int64\n",
       "favoritos     int64\n",
       "dtype: object"
      ]
     },
     "execution_count": 12,
     "metadata": {},
     "output_type": "execute_result"
    }
   ],
   "source": [
    "df.dtypes"
   ]
  },
  {
   "cell_type": "markdown",
   "metadata": {},
   "source": []
  }
 ],
 "metadata": {
  "kernelspec": {
   "display_name": "Python 3",
   "language": "python",
   "name": "python3"
  },
  "language_info": {
   "codemirror_mode": {
    "name": "ipython",
    "version": 3
   },
   "file_extension": ".py",
   "mimetype": "text/x-python",
   "name": "python",
   "nbconvert_exporter": "python",
   "pygments_lexer": "ipython3",
   "version": "3.10.12"
  },
  "orig_nbformat": 4
 },
 "nbformat": 4,
 "nbformat_minor": 2
}
